{
 "cells": [
  {
   "cell_type": "markdown",
   "metadata": {
    "id": "Tbpny6-szFdW"
   },
   "source": [
    "## **Custom Embeddings**\n",
    "\n",
    "This notebook should be ideally run on google colab. \n",
    "\n",
    "For Google colab, \n",
    "1. Make sure you have added the shared folder \"digital-forest\". \n",
    "2. Mount the google drive onto the colab environment. \n",
    "    1. Go to the folder icon on the left\n",
    "    2. Click on th folder icon with google drive icon.\n",
    "    3. This should mount the drive.\n",
    "    4. Now all files in your drive are directly accessible in your colab environment.\n",
    "\n",
    "For running on local environment, \n",
    "1. Make sure to change the root path to the local directory.\n",
    "2. If any errors make sure to double check the file directory.\n",
    "\n"
   ]
  },
  {
   "cell_type": "markdown",
   "metadata": {
    "id": "797LZ0io0gVB"
   },
   "source": [
    "## 1. Load the data"
   ]
  },
  {
   "cell_type": "markdown",
   "metadata": {
    "id": "aAojZyQo0HhN"
   },
   "source": [
    "**Note:-** Here the directory should match the directory from your google colab drive. \n",
    "To get this\n",
    "1. Explore the folders in the files section\n",
    "2. Right Click on the folder whose path you woukld like to import.\n",
    "3. Click on Copy Path from the dropdown"
   ]
  },
  {
   "cell_type": "code",
   "execution_count": 1,
   "metadata": {
    "id": "5pLiDf2shAKx"
   },
   "outputs": [],
   "source": [
    "article_dir = 'to the xml folder'"
   ]
  },
  {
   "cell_type": "code",
   "execution_count": 2,
   "metadata": {
    "id": "tdZ892CLhRy2"
   },
   "outputs": [],
   "source": [
    "# Get a list of all files in given directory\n",
    "from os import walk\n",
    "filenames = next(walk(article_dir), (None, None, []))[2]  # [] if no file"
   ]
  },
  {
   "cell_type": "code",
   "execution_count": 4,
   "metadata": {
    "colab": {
     "base_uri": "https://localhost:8080/"
    },
    "id": "-m0uED0X0nIH",
    "outputId": "cd0346bd-f8e6-4d47-b567-714dbcc25e67"
   },
   "outputs": [
    {
     "data": {
      "text/plain": [
       "['10.3390_rs13153009.html',\n",
       " '10.3390_rs13152956.html',\n",
       " '10.3390_rs13152892.html']"
      ]
     },
     "execution_count": 4,
     "metadata": {},
     "output_type": "execute_result"
    }
   ],
   "source": [
    "filenames[:3]"
   ]
  },
  {
   "cell_type": "code",
   "execution_count": 1,
   "metadata": {},
   "outputs": [],
   "source": [
    "import imp\n",
    "from bs4 import BeautifulSoup\n",
    "import re"
   ]
  },
  {
   "cell_type": "code",
   "execution_count": 2,
   "metadata": {},
   "outputs": [],
   "source": [
    "file_name=\"10.1016_j.foreco.2016.05.018.xml\""
   ]
  },
  {
   "cell_type": "code",
   "execution_count": 3,
   "metadata": {},
   "outputs": [],
   "source": [
    "with open(file_name, \"r\", encoding='utf-8') as f:\n",
    "        xml_file = f.read()"
   ]
  },
  {
   "cell_type": "code",
   "execution_count": 4,
   "metadata": {},
   "outputs": [],
   "source": [
    "soup=BeautifulSoup(xml_file,'xml')"
   ]
  },
  {
   "cell_type": "code",
   "execution_count": 22,
   "metadata": {},
   "outputs": [
    {
     "data": {
      "text/plain": [
       "<dc:title>Emergent crowns and light-use complementarity lead to global maximum biomass and leaf area in Sequoia sempervirens forests </dc:title>"
      ]
     },
     "execution_count": 22,
     "metadata": {},
     "output_type": "execute_result"
    }
   ],
   "source": [
    "soup.title"
   ]
  },
  {
   "cell_type": "code",
   "execution_count": 27,
   "metadata": {},
   "outputs": [
    {
     "name": "stdout",
     "output_type": "stream",
     "text": [
      "Emergent crowns and light-use complementarity lead to global maximum biomass and leaf area in Sequoia sempervirens forests \n"
     ]
    }
   ],
   "source": [
    "#print article title\n",
    "print(soup.title.string)"
   ]
  },
  {
   "cell_type": "code",
   "execution_count": 29,
   "metadata": {},
   "outputs": [
    {
     "name": "stdout",
     "output_type": "stream",
     "text": [
      "doi:10.1016/j.foreco.2016.05.018\n"
     ]
    }
   ],
   "source": [
    "#print article doi\n",
    "print(soup.identifier.string)"
   ]
  },
  {
   "cell_type": "code",
   "execution_count": 48,
   "metadata": {},
   "outputs": [
    {
     "name": "stdout",
     "output_type": "stream",
     "text": [
      "2016-09-01\n",
      "2016-06-15\n"
     ]
    }
   ],
   "source": [
    "#print article date The date the search begin\n",
    "print(soup.coverDate.string)\n",
    "# the date the article published\n",
    "date=soup.find_all('orig-load-date')\n",
    "print(date[0].string)"
   ]
  },
  {
   "cell_type": "code",
   "execution_count": 55,
   "metadata": {},
   "outputs": [
    {
     "name": "stdout",
     "output_type": "stream",
     "text": [
      "<xocs:srctitle>Forest Ecology and Management</xocs:srctitle>\n",
      "<xocs:normalized-srctitle>FORESTECOLOGYMANAGEMENT</xocs:normalized-srctitle>\n"
     ]
    }
   ],
   "source": [
    "#print journal name\n",
    "journal_name=soup.find(name='srctitle',string=True)\n",
    "norm_journal_name=soup.find(name='normalized-srctitle',string=True)\n",
    "print(journal_name)\n",
    "print(norm_journal_name)"
   ]
  },
  {
   "cell_type": "code",
   "execution_count": 59,
   "metadata": {},
   "outputs": [
    {
     "name": "stdout",
     "output_type": "stream",
     "text": [
      "<openaccess>1</openaccess>\n",
      "<openaccessArticle>true</openaccessArticle>\n",
      "<openaccessType>Full</openaccessType>\n",
      "<openaccessSponsorType>Author</openaccessSponsorType>\n"
     ]
    }
   ],
   "source": [
    "#open access details\n",
    "OA=soup.find('openaccess')\n",
    "OA_txt=soup.find('openaccessArticle')\n",
    "OA_type=soup.find('openaccessType')\n",
    "OA_sponsor_type=soup.find('openaccessSponsorType')\n",
    "print(OA)\n",
    "print(OA_txt)\n",
    "print(OA_type)\n",
    "print(OA_sponsor_type)"
   ]
  },
  {
   "cell_type": "code",
   "execution_count": 37,
   "metadata": {},
   "outputs": [
    {
     "name": "stdout",
     "output_type": "stream",
     "text": [
      "[<dc:creator>Van Pelt, Robert</dc:creator>, <dc:creator>Sillett, Stephen C.</dc:creator>, <dc:creator>Kruse, William A.</dc:creator>, <dc:creator>Freund, James A.</dc:creator>, <dc:creator>Kramer, Russell D.</dc:creator>]\n",
      "<class 'bs4.element.ResultSet'>\n",
      "5\n",
      "['Van Pelt, Robert', 'Sillett, Stephen C.', 'Kruse, William A.', 'Freund, James A.', 'Kramer, Russell D.']\n"
     ]
    }
   ],
   "source": [
    "#print article authors\n",
    "authors=soup.find_all('creator')\n",
    "print(authors)\n",
    "print(type(authors))\n",
    "print(len(authors))\n",
    "author_list=[]\n",
    "for author in authors:\n",
    "    author_list.append(author.string)\n",
    "print(author_list)"
   ]
  },
  {
   "cell_type": "code",
   "execution_count": 110,
   "metadata": {},
   "outputs": [
    {
     "name": "stdout",
     "output_type": "stream",
     "text": [
      "12\n",
      "['Sequoia sempervirens', 'Old growth', 'Forest structure', 'Biomass', 'LAI', 'Leaf area', 'Carbon sequestration', 'LiDAR', 'Emergent trees', 'Heartwood', 'Allometric equations', 'Light-use complementarity']\n"
     ]
    }
   ],
   "source": [
    "#print keywords from bibliometric\n",
    "keywords=soup.find_all('subject')\n",
    "print(len(keywords))\n",
    "keyword_list=[]\n",
    "for keyword in keywords:\n",
    "    \n",
    "    keyword_list.append(keyword.string.strip())  #use strip() to remove the extra spaces for first keyword\n",
    "print(keyword_list)"
   ]
  },
  {
   "cell_type": "code",
   "execution_count": 126,
   "metadata": {},
   "outputs": [
    {
     "name": "stdout",
     "output_type": "stream",
     "text": [
      "12\n",
      "['Sequoia sempervirens', 'Old growth', 'Forest structure', 'Biomass', 'LAI', 'Leaf area', 'Carbon sequestration', 'LiDAR', 'Emergent trees', 'Heartwood', 'Allometric equations', 'Light-use complementarity']\n"
     ]
    }
   ],
   "source": [
    "#print keyowords from full text\n",
    "#note the first keywords is italic which create addition steps for text extraction\n",
    "## use stripped_strings in keyword elements to remove formatting\n",
    "keywords=soup.find_all('keyword')\n",
    "print(len(keywords))\n",
    "#print(keywords[3])\n",
    "#print(keywords[1].find('italic'))\n",
    "keyword_list=[]\n",
    "for keyword in keywords:\n",
    "    for kw in keyword.stripped_strings:\n",
    "        keyword_list.append(kw)\n",
    "print(keyword_list)"
   ]
  },
  {
   "cell_type": "code",
   "execution_count": 127,
   "metadata": {
    "scrolled": true
   },
   "outputs": [
    {
     "name": "stdout",
     "output_type": "stream",
     "text": [
      "[<xocs:funding-list has-funding-info=\"1\">\n",
      "<xocs:funding-addon-generated-timestamp>2019-03-28T03:46:39.516Z</xocs:funding-addon-generated-timestamp>\n",
      "<xocs:funding-addon-type>http://vtw.elsevier.com/data/voc/AddOnTypes/50.7/nlp</xocs:funding-addon-type>\n",
      "<xocs:funding-source-document source-document-type=\"pii\">S0378112716302584</xocs:funding-source-document>\n",
      "<xocs:funding>\n",
      "<xocs:funding-agency-matched-string>National Science Foundation</xocs:funding-agency-matched-string>\n",
      "<xocs:funding-id>IOB-0445277</xocs:funding-id>\n",
      "<xocs:funding-agency>National Science Foundation</xocs:funding-agency>\n",
      "<xocs:funding-agency-id>http://data.elsevier.com/vocabulary/SciValFunders/100000001</xocs:funding-agency-id>\n",
      "<xocs:funding-agency-country>http://sws.geonames.org/6252001/</xocs:funding-agency-country>\n",
      "</xocs:funding>\n",
      "<xocs:funding>\n",
      "<xocs:funding-agency-matched-string>Forest Ecology at Humboldt State University</xocs:funding-agency-matched-string>\n",
      "</xocs:funding>\n",
      "<xocs:funding-text>This research was supported by the Save the Redwoods League (Redwoods and Climate Change Initiative), the Kenneth L. Fisher Chair of Redwood Forest Ecology at Humboldt State University , and the National Science Foundation ( IOB-0445277 ). We thank our primary crew Anthony Ambrose, Marie Antoine, Ethan Coonen, Giacomo Renzullo, Kalia Scarla, and Jim Campbell-Spickler, who were responsible for much of the climbing and branch dissections. We also thank Scott Altenhoff, Wakana Azuma, Wendy Baxter, Nolan Bowman, Emily Burns, Allyson Carroll, Todd Dawson, Ken Fisher, Hiroaki Ishii, Nick Kent, Bryan Kotwica, Dan Krauss, Rikke Reese Næsborg, Tobe Sherrill, Cameron Williams, Chris Wong, and the Forest Measurements and Silvics classes at Humboldt State University from 2011 to 2013. We are grateful to several California State Parks (Big Basin Redwoods, Humboldt Redwoods, Jedediah Smith Redwoods, Prairie Creek Redwoods, and Samuel P. Taylor), Montgomery Woods State Natural Reserve, Landels–Hill Big Creek Reserve, Redwood National Park, and the Arcata Community Forest for granting permission to establish long term plots, climb trees, collect samples within these reserves, and for help with logistics. Jerry Franklin provided valuable input on the structure of the paper.  Appendix A </xocs:funding-text>\n",
      "</xocs:funding-list>]\n"
     ]
    }
   ],
   "source": [
    "#find funding information  \n",
    "#need futher cleaning later\n",
    "funding=soup.find_all('funding-list')\n",
    "print(funding)"
   ]
  },
  {
   "cell_type": "code",
   "execution_count": 155,
   "metadata": {},
   "outputs": [
    {
     "name": "stdout",
     "output_type": "stream",
     "text": [
      "5\n",
      "au005\n",
      "Robert   Van Pelt\n",
      "3\n",
      "[<ce:cross-ref id=\"c0130\" refid=\"af005\">\n",
      "<ce:sup loc=\"post\">a</ce:sup>\n",
      "</ce:cross-ref>, <ce:cross-ref id=\"c0135\" refid=\"af010\">\n",
      "<ce:sup loc=\"post\">b</ce:sup>\n",
      "</ce:cross-ref>, <ce:cross-ref id=\"c0140\" refid=\"cor1\">\n",
      "<ce:sup loc=\"post\">⁎</ce:sup>\n",
      "</ce:cross-ref>]\n",
      "af005\n",
      "<ce:affiliation id=\"af005\">\n",
      "<ce:label>a</ce:label>\n",
      "<ce:textfn>Department of Forestry and Wildland Resources, Humboldt State University, Arcata, CA 95521, USA</ce:textfn>\n",
      "<sa:affiliation>\n",
      "<sa:organization>Department of Forestry and Wildland Resources</sa:organization>\n",
      "<sa:organization>Humboldt State University</sa:organization>\n",
      "<sa:city>Arcata</sa:city>\n",
      "<sa:state>CA</sa:state>\n",
      "<sa:postal-code>95521</sa:postal-code>\n",
      "<sa:country>USA</sa:country>\n",
      "</sa:affiliation>\n",
      "</ce:affiliation>\n"
     ]
    }
   ],
   "source": [
    "#find authors and affiliation\n",
    "authors=soup.find_all('ce:author')\n",
    "print(len(authors))\n",
    "##find author id\n",
    "print(authors[0].get('id'))\n",
    "## find author name\n",
    "print(authors[0].find('ce:given-name').string,' ',authors[0].surname.string)\n",
    "\n",
    "## find author afflication\n",
    "\n",
    "##extract all authors' affiliation reference with refid\n",
    "affl=authors[0].find_all('ce:cross-ref')\n",
    "print(len(affl))\n",
    "print(affl)\n",
    "\n",
    "## get refid and search affiliation usng refid\n",
    "print(affl[0].get('refid'))\n",
    "af_id=affl[0].get('refid')\n",
    "\n",
    "print(soup.find(name='ce:affiliation',id=af_id))"
   ]
  },
  {
   "cell_type": "code",
   "execution_count": 163,
   "metadata": {},
   "outputs": [
    {
     "name": "stdout",
     "output_type": "stream",
     "text": [
      "['cor1']\n",
      "[<ce:author id=\"au005\" orcid=\"0000-0002-2424-5040\">\n",
      "<ce:given-name>Robert</ce:given-name>\n",
      "<ce:surname>Van Pelt</ce:surname>\n",
      "<ce:cross-ref id=\"c0130\" refid=\"af005\">\n",
      "<ce:sup loc=\"post\">a</ce:sup>\n",
      "</ce:cross-ref>\n",
      "<ce:cross-ref id=\"c0135\" refid=\"af010\">\n",
      "<ce:sup loc=\"post\">b</ce:sup>\n",
      "</ce:cross-ref>\n",
      "<ce:cross-ref id=\"c0140\" refid=\"cor1\">\n",
      "<ce:sup loc=\"post\">⁎</ce:sup>\n",
      "</ce:cross-ref>\n",
      "</ce:author>]\n",
      "1\n"
     ]
    }
   ],
   "source": [
    "#find correspondence authors\n",
    "cor_ids=soup.find_all('ce:correspondence')\n",
    "#print(cor_ids)\n",
    "cor_id_list=[]\n",
    "for cor_id in cor_ids:\n",
    "    cor_id_list.append(cor_id.get('id'))\n",
    "print(cor_id_list)\n",
    "\n",
    "cor_aut_list=[]\n",
    "authors=soup.find_all('ce:author')\n",
    "for id in cor_id_list:\n",
    "    for author in authors:\n",
    "        cor_aff=author.find('ce:cross-ref',refid=id)\n",
    "        if cor_aff is not None:\n",
    "            cor_aut_list.append(author)\n",
    "print(cor_aut_list)\n",
    "print(len(cor_aut_list))\n",
    "        "
   ]
  },
  {
   "cell_type": "code",
   "execution_count": 177,
   "metadata": {},
   "outputs": [
    {
     "name": "stdout",
     "output_type": "stream",
     "text": [
      "2\n",
      "Forests >80\n",
      "m tall have the highest biomass, and individual trees in these forests are Earth’s largest with deep crowns emerging above neighboring vegetation, but it is unclear to what degree these maxima depend on the emergent trees themselves or a broader-scale forest structure. Here we advance the concept of\n",
      "emergent facilitation\n",
      ", whereby emergent trees benefit co-occurring species. Trees reorganize foliage within crowns to optimize available light and, if long-lived, can reiterate after crown damage to become emergent. The height, depth, and spacing of emergent trees in turn allows for abundant light to pass through the canopy, leading to light-use complementarity as well as elevated biomass, leaf area, and species diversity of the forest as a whole. We chose\n",
      "Sequoia sempervirens\n",
      "to develop this concept and installed eleven 1-ha plots in old-growth forests spanning nearly six degrees of latitude in California. Each plot was based off a 316-m-long centerline where biomass and leaf area of all vegetation were quantified. We employed hierarchical measurements and stratified random sampling spanning the full size range of individuals to generate 180 equations for determining biomass and leaf area of all dominant plant species in these forests. Biomass (5190\n",
      "Mg\n",
      "ha\n",
      "−1\n",
      "), leaf area (LAI\n",
      "=\n",
      "19.4), and aboveground carbon (2600\n",
      "Mg\n",
      "ha\n",
      "−1\n",
      ") are global maxima, occurring in plots with the highest proportion of emergent trees. Decay-resistant\n",
      "Sequoia\n",
      "heartwood contributes the bulk of this mass, ranging from 61.5 to 76.7% of plot totals. Heartwood is a key contributor to the development of trees with emergent crowns, since its durability enables trees to recover leaf area and to re-grow crowns after damage so that they can continue expanding for millennia. By distributing leaf area among fewer trees with deeper crowns,\n",
      "Sequoia\n",
      "maintains very high leaf area itself (LAI up to 14.5) while simultaneously allowing other species to flourish underneath (non-\n",
      "Sequoia\n",
      "LAI up to 8.0). Because\n",
      "Sequoia\n",
      "is not replaced by other species, aboveground biomass, leaf area, and carbon content of these forests are essentially asymptotic over time.\n"
     ]
    }
   ],
   "source": [
    "# need further text for abstract extraction from formatted full text\n",
    "abstract=soup.find_all('ce:abstract')\n",
    "print(len(abstract))\n",
    "#print(abstract[-1])\n",
    "for ab in abstract[-1].stripped_strings:\n",
    "    print(ab)\n"
   ]
  },
  {
   "cell_type": "code",
   "execution_count": 26,
   "metadata": {},
   "outputs": [
    {
     "name": "stdout",
     "output_type": "stream",
     "text": [
      "<ce:section id=\"s0005\" view=\"all\">\n",
      "<ce:label>1</ce:label>\n",
      "<ce:section-title id=\"st025\">Introduction</ce:section-title>\n",
      "<ce:para id=\"p0030\" view=\"all\">Globally, the tallest forests also have the highest biomass (<ce:cross-refs id=\"c0170\" refid=\"b0805 b0400\">Waring and Franklin, 1979; Keith et al., 2009</ce:cross-refs>). Forests with trees &gt;80<ce:hsp sp=\"0.25\"/>m tall all have abundant precipitation and most occur at low elevations, but the same holds true for many other forests that do not produce tall trees (<ce:cross-ref id=\"c0175\" refid=\"b0725\">Tng et al., 2012</ce:cross-ref>). Beyond elevation and precipitation, an optimal temperature regime – specifically low seasonal variation in temperature – is a global determinant of maximum tree height (<ce:cross-ref id=\"c0180\" refid=\"b0460\">Larjavaara and Muller-Landau, 2011</ce:cross-ref>). Wet, low elevation forests with mild and stable temperature regimes only occur in coastal environments, and accordingly nearly all trees &gt;80<ce:hsp sp=\"0.25\"/>m tall grow within 100<ce:hsp sp=\"0.25\"/>km of an ocean with most being much closer (<ce:cross-ref id=\"c0185\" refid=\"b0455\">Larjavaara, 2013</ce:cross-ref>).</ce:para>\n",
      "<ce:para id=\"p0035\" view=\"all\">Biomass and leaf area of the tallest forests are often more than an order of magnitude higher than shorter forests, including those in tropical Central and South America as well as those in temperate Europe and eastern North America (<ce:cross-refs id=\"r0010\" refid=\"b0205 b0400\">Franklin and Waring, 1980; Keith et al., 2009</ce:cross-refs>). The largest trees consistently occur in forests with near-maximum biomass and leaf area (<ce:cross-refs id=\"r0015\" refid=\"b0640 b0655\">Sillett and Van Pelt, 2007; Sillett et al., 2015b</ce:cross-refs>). Linkages between large trees and forest structure are so strong that aboveground biomass in Central African forests is predictable with information from only the largest 5% of their trees (<ce:cross-ref id=\"c0190\" refid=\"b0050\">Bastin et al., 2015</ce:cross-ref>). Large trees are a critical element of forest structure, but it is unclear to what degree maximum biomass and leaf area are attributable to the presence of large trees or a broader-scale forest structure. Even in high-biomass forests dominated by a single species, other species often substantially contribute to plot-level leaf area (<ce:cross-refs id=\"r0020\" refid=\"b0275 b0775\">Grier and Logan, 1977; Van Pelt et al., 2004</ce:cross-refs>). Massive accumulation of biomass in living trees is also associated with large logs and snags that can represent as much as one-third of total forest carbon (<ce:cross-refs id=\"r0025\" refid=\"b0680 b0095\">Smithwick et al., 2002; Burrascano et al., 2013</ce:cross-refs>), especially in cool temperate rainforests (<ce:italic>sensu</ce:italic>\n",
      "<ce:cross-ref id=\"c0195\" refid=\"b0020\">Alaback, 1991</ce:cross-ref>) where saturated logs have slow rates of decay (<ce:cross-refs id=\"r0030\" refid=\"b0305 b0145\">Harmon et al., 1986; Daniels et al., 1997</ce:cross-refs>).</ce:para>\n",
      "<ce:section id=\"s0010\" view=\"all\">\n",
      "<ce:label>1.1</ce:label>\n",
      "<ce:section-title id=\"st030\">Crown development of tall trees</ce:section-title>\n",
      "<ce:para id=\"p0040\" view=\"all\">The six species in the world verified &gt;90<ce:hsp sp=\"0.25\"/>m tall represent the two largest members of three families and two phyla (<ce:cross-ref id=\"c0200\" refid=\"t0005\">Table 1</ce:cross-ref>\n",
      "<ce:float-anchor refid=\"t0005\"/>). Achieving these dimensions not only requires an immense leaf area, but also an optimal scaffolding on which to array leaves. Trees with the highest leaf areas are those that can maintain foliage in shade and develop deep crowns (<ce:cross-refs id=\"r0035\" refid=\"b0345 b0480\">Horn, 1971; Leverenz and Hinckley, 1990</ce:cross-refs>). The tallest <ce:italic>Cupressaceae</ce:italic> (<ce:italic>Sequoia sempervirens</ce:italic> and <ce:italic>Sequoiadendron giganteum</ce:italic>) are the only known trees to support leaf dry masses &gt;900<ce:hsp sp=\"0.25\"/>kg (<ce:cross-ref id=\"c0205\" refid=\"b0650\">Sillett et al., 2015a</ce:cross-ref>), and among 30 crown-mapped trees with this much foliage, mean crown depths are &gt;60<ce:hsp sp=\"0.25\"/>m with crown-depth-to-diameter ratios &gt;3.0 (<ce:cross-ref id=\"c0210\" refid=\"t0005\">Table 1</ce:cross-ref>). Despite profound differences in crown structure and physiology, the largest individuals of the other four tallest species also develop deep crowns (<ce:cross-ref id=\"c0215\" refid=\"t0005\">Table 1</ce:cross-ref>). Each of these species can produce <ce:italic>emergent</ce:italic> trees – large trees in dominant canopy positions above neighboring vegetation with crowns exposed to extremes of sun and wind. Interacting processes at leaf, branch, and whole-crown scales contribute to emergent crown development.</ce:para>\n",
      "<ce:para id=\"p0045\" view=\"all\">Trees make many leaf-level adjustments to maximize carbon gain. Since leaves reach photosynthetic saturation at a fraction of full sunlight, trees adjust leaf angles to minimize excessive heat loading and water loss (<ce:cross-refs id=\"r0040\" refid=\"b0155 b0340\">Duncan, 1971; Hikosaka and Hirose, 1997</ce:cross-refs>). Long-lived trees have constantly changing crowns and reiterate (resprout) following disturbance to restore leaf area (<ce:cross-refs id=\"r0045\" refid=\"b0675 b0350\">Smith and Brewer, 1994; Ishii and Ford, 2001</ce:cross-refs>). Within-crown growth produces leaves in newly illuminated regions, effectively maximizing productivity of the individual tree (<ce:cross-refs id=\"r0050\" refid=\"b0515 b0175\">Monsi and Saeki, 1953; Falster and Westoby, 2003</ce:cross-refs>). Leaves of many species are also phenotypically plastic, allowing them to vary widely in size, shape, and tissue density (<ce:cross-refs id=\"r0055\" refid=\"b0575 b0560\">Poorter et al., 2009; Oldham et al., 2010</ce:cross-refs>), expressed as leaf mass per unit area (LMA).</ce:para>\n",
      "<ce:para id=\"p0050\" view=\"all\">In tall crowns, leaves aggregate at the shoot level, shoots aggregate at the branch level, and branches are dispersed vertically at the tree level in response to <ce:italic>penumbral effects</ce:italic> (<ce:cross-refs id=\"r0060\" refid=\"b0025 b0510\">Anderson, 1964; Miller and Norman, 1971</ce:cross-refs>). Penumbral effects occur as the sun leaves a conic region of full shadow (<ce:italic>umbra</ce:italic>) behind an object that tapers into a region of diffuse shadow (<ce:italic>penumbra</ce:italic>) of useable light (<ce:cross-refs id=\"r0065\" refid=\"b0345 b0670\">Horn, 1971; Smith et al., 1989</ce:cross-refs>). The umbra, which is too dark for positive net photosynthesis, is minimized behind small objects such as leaves and shoots, because refracted light quickly illuminates behind them. On cloudy days, when diffuse light comes from all sides, the umbra is nearly eliminated. Aggregation of leaves at multiple scales effectively minimizes the umbra to relatively small regions directly underneath branches (<ce:cross-ref id=\"c0220\" refid=\"b0780\">Van Pelt and Sillett, 2008</ce:cross-ref>). We refer to the combined influences of phenotypic plasticity, aggregation at multiple scales, and crown reorganization as <ce:italic>crown optimization</ce:italic> (<ce:italic>sensu</ce:italic>\n",
      "<ce:cross-ref id=\"c0225\" refid=\"b0140\">Coomes et al., 2012</ce:cross-ref>), a phenomenon occurring to some extent in all trees. All long-lived species that also grow tall have the potential to develop an emergent crown.</ce:para>\n",
      "</ce:section>\n",
      "<ce:section id=\"s0015\" view=\"all\">\n",
      "<ce:label>1.2</ce:label>\n",
      "<ce:section-title id=\"st035\">Plot-level implications of emergent trees</ce:section-title>\n",
      "<ce:para id=\"p0055\" view=\"all\">During the lengthy process of crown optimization, abundant opportunities are created for other species to add leaf area in various canopy positions along the vertical gradient (<ce:cross-refs id=\"r0070\" refid=\"b0100 b0355\">Canham, 1988; Ishii et al., 2004</ce:cross-refs>). Diverse architectures and strategies of leaf display allow many trees, shrubs, and other plants that can grow in deep shade to exploit diffuse light (penumbra) in forest understories (<ce:cross-refs id=\"r0075\" refid=\"b0570 b0430 b0765\">Pickett and Kempf, 1980; King, 1994; Van Pelt and Franklin, 2000</ce:cross-refs>). Higher total leaf area due to shared canopy space by multiple species is termed <ce:italic>light</ce:italic>-<ce:italic>use complementarity</ce:italic> (hereafter LUC), which is a potential contributor to forest diversity and productivity (<ce:cross-ref id=\"c0230\" refid=\"b0365\">Ishii et al., 2013</ce:cross-ref>). Emergent trees maintain a high plot-level leaf area by growing deep crowns with larger, but fewer individuals. Vertical reorganization of foliage in large trees releases horizontal space and through LUC may increase total leaf area along the way – a process we call <ce:italic>emergent facilitation</ce:italic> (<ce:cross-ref id=\"c0235\" refid=\"f0005\">Fig. 1</ce:cross-ref>\n",
      "<ce:float-anchor refid=\"f0005\"/>). Demonstrating emergent facilitation requires detailed, spatially explicit leaf area data from all species present. In tall, old-growth forests, these data must cover long distances (at least 3 times dominant tree height – <ce:cross-refs id=\"r0080\" refid=\"b0450 b0770\">Kuiper, 1988; Van Pelt and Nadkarni, 2004</ce:cross-refs>) to capture the full range of horizontal variability present in the forest.</ce:para>\n",
      "<ce:para id=\"p0060\" view=\"all\">Detecting LUC resulting from emergent facilitation might require considering forests as a collection of discrete, developmental units. Horizontal diversity in old-growth forests includes canopy gaps, regeneration patches, zones of dense trees, snags and logs, as well as sections with emergent trees (<ce:cross-refs id=\"r0085\" refid=\"b0600 b0210\">Richards, 1952; Franklin et al., 1981</ce:cross-refs>). In primary (old-growth) tropical rainforests, a <ce:italic>silvatic mosaic</ce:italic> is defined as a collection of <ce:italic>eco</ce:italic>-<ce:italic>units</ce:italic> (i.e., distinct patches with a similar internal structural and developmental trajectory following disturbances) and is the minimum landscape surface encompassing the full spectrum of horizontal diversity (<ce:cross-refs id=\"r0090\" refid=\"b0550 b0555\">Oldeman, 1983, 1990</ce:cross-refs>). Eco-units in the oldest forests consist of <ce:italic>structural ensembles</ce:italic> – cohorts of trees stratified vertically (e.g., understory, middle canopy, upper canopy). The largest trees define both the eco-unit and the uppermost structural ensemble and have a strong influence over the other ensembles. Whether trees can become emergent or not depends in part on the species and in part on the structural context of neighboring trees. As trees age, damage from crown breakage and subsequent decay can lead to tree death and the degeneration of structural ensembles (<ce:cross-ref id=\"c0240\" refid=\"b0555\">Oldeman, 1990</ce:cross-ref>). If defined by canopy height, structural ensembles might be identifiable using remote sensing technologies such as aerial LiDAR (<ce:cross-refs id=\"r0095\" refid=\"b0470 b0385\">Lefsky et al., 1999; Kane et al., 2011</ce:cross-refs>). Further, if ensembles are defined by tree structure, and leaf area of all species within plots is quantified spatially, contributions of emergent trees to the forest as a whole can be determined.</ce:para>\n",
      "</ce:section>\n",
      "<ce:section id=\"s0020\" view=\"all\">\n",
      "<ce:label>1.3</ce:label>\n",
      "<ce:section-title id=\"st040\">Study system and objectives</ce:section-title>\n",
      "<ce:para id=\"p0065\" view=\"all\">Unique among the tallest species, some <ce:italic>S. sempervirens</ce:italic> (hereafter <ce:italic>Sequoia</ce:italic>) forests were intact throughout the Holocene such that they are much older than the oldest individual trees (<ce:cross-ref id=\"c0245\" refid=\"b0630\">Sawyer et al., 2000</ce:cross-ref>). In the rainforest (i.e., northern) part of its range, individual <ce:italic>Sequoia</ce:italic> reach heights &gt;115<ce:hsp sp=\"0.25\"/>m and ages &gt;2500<ce:hsp sp=\"0.25\"/>years (<ce:cross-ref id=\"c0250\" refid=\"b0650\">Sillett et al., 2015a</ce:cross-ref>). Unlike many tree species, where severe damage to a dominant tree crown initiates overall decline (<ce:cross-ref id=\"c0255\" refid=\"b0555\">Oldeman, 1990</ce:cross-ref>), decay resistance, reiterative capacity, and shade tolerance allow <ce:italic>Sequoia</ce:italic> to recover leaf area and expand its crown following disturbances (<ce:cross-ref id=\"c0260\" refid=\"b0650\">Sillett et al., 2015a</ce:cross-ref>). Eventually such trees become emergent with deep and highly individualized crowns (<ce:cross-ref id=\"c0265\" refid=\"f0010\">Fig. 2</ce:cross-ref>\n",
      "<ce:float-anchor refid=\"f0010\"/>). These tree-level attributes, in part, allow <ce:italic>Sequoia</ce:italic> forests to achieve biomass exceeding 3000<ce:hsp sp=\"0.25\"/>Mg<ce:hsp sp=\"0.25\"/>ha<ce:sup loc=\"post\">−1</ce:sup> (<ce:cross-refs id=\"r0100\" refid=\"b0810 b0240 b0640\">Westman and Whittaker, 1975; Fujimori, 1977; Sillett and Van Pelt, 2007</ce:cross-refs>).</ce:para>\n",
      "<ce:para id=\"p0070\" view=\"all\">The geographic range of <ce:italic>Sequoia</ce:italic> is limited to the west coast of North America where maritime conditions interface with a Mediterranean climate of hot, dry summers and cool, wet winters (<ce:cross-ref id=\"c0270\" refid=\"b0630\">Sawyer et al., 2000</ce:cross-ref>). A strong north-south precipitation gradient exists across the <ce:italic>Sequoia</ce:italic> distribution, influencing fire regimes (<ce:cross-refs id=\"r0105\" refid=\"b0230 b0790 b0490\">Fritz, 1932; Veirs, 1982; Lorimer et al., 2009</ce:cross-refs>). Variability in biomass and leaf area among these forests is poorly understood, and this deficiency is especially apparent with respect to abundance of dead wood. In northern rainforests, dead wood accumulations along streams range from 100 to 1800<ce:hsp sp=\"0.25\"/>Mg<ce:hsp sp=\"0.25\"/>ha<ce:sup loc=\"post\">−1</ce:sup> (<ce:cross-ref id=\"c0275\" refid=\"b0410\">Keller et al., 1985</ce:cross-ref>), and in nearby terrestrial forests range from 210 to 580<ce:hsp sp=\"0.25\"/>Mg<ce:hsp sp=\"0.25\"/>ha<ce:sup loc=\"post\">−1</ce:sup> (<ce:cross-ref id=\"c0280\" refid=\"b0255\">Graham, 2009</ce:cross-ref>). These values are far higher than reported for any other forest type (<ce:cross-ref id=\"c0285\" refid=\"b0305\">Harmon et al., 1986</ce:cross-ref>). The range of <ce:italic>Sequoia</ce:italic> also extends south into a much warmer and drier part of coastal California, where chaparral is the dominant vegetation (<ce:cross-ref id=\"c0290\" refid=\"b0715\">Stephens and Fry, 2005</ce:cross-ref>). Fire exerts major influence on the structure of <ce:italic>Sequoia</ce:italic> forests in this region, reflected by both smaller trees and lower quantities of woody debris (<ce:cross-refs id=\"r0110\" refid=\"b0490 b0650\">Lorimer et al., 2009; Sillett et al., 2015a</ce:cross-refs>).</ce:para>\n",
      "<ce:para id=\"p0075\" view=\"all\">Our primary goal is to better understand the processes by which <ce:italic>Sequoia</ce:italic> forests achieve global maxima and to elucidate the effect of emergent trees on forest structure. We pose three questions: (1) Does emergent facilitation lead to LUC in <ce:italic>Sequoia</ce:italic> forests? (2) Are emergent trees essential to achieving maximum leaf area at the plot level, or can maxima be reached with different forest structures? (3) Given the strong precipitation gradient with latitude, how do aboveground carbon and abundance of dead wood vary across old-growth <ce:italic>Sequoia</ce:italic> forests in California?</ce:para>\n",
      "</ce:section>\n",
      "</ce:section>\n"
     ]
    }
   ],
   "source": [
    "print(soup.section)"
   ]
  },
  {
   "cell_type": "code",
   "execution_count": 5,
   "metadata": {},
   "outputs": [
    {
     "name": "stdout",
     "output_type": "stream",
     "text": [
      "<dc:description>\n",
      "                  Forests &gt;80m tall have the highest biomass, and individual trees in these forests are Earth’s largest with deep crowns emerging above neighboring vegetation, but it is unclear to what degree these maxima depend on the emergent trees themselves or a broader-scale forest structure. Here we advance the concept of emergent facilitation, whereby emergent trees benefit co-occurring species. Trees reorganize foliage within crowns to optimize available light and, if long-lived, can reiterate after crown damage to become emergent. The height, depth, and spacing of emergent trees in turn allows for abundant light to pass through the canopy, leading to light-use complementarity as well as elevated biomass, leaf area, and species diversity of the forest as a whole. We chose Sequoia sempervirens to develop this concept and installed eleven 1-ha plots in old-growth forests spanning nearly six degrees of latitude in California. Each plot was based off a 316-m-long centerline where biomass and leaf area of all vegetation were quantified. We employed hierarchical measurements and stratified random sampling spanning the full size range of individuals to generate 180 equations for determining biomass and leaf area of all dominant plant species in these forests. Biomass (5190Mgha−1), leaf area (LAI=19.4), and aboveground carbon (2600Mgha−1) are global maxima, occurring in plots with the highest proportion of emergent trees. Decay-resistant Sequoia heartwood contributes the bulk of this mass, ranging from 61.5 to 76.7% of plot totals. Heartwood is a key contributor to the development of trees with emergent crowns, since its durability enables trees to recover leaf area and to re-grow crowns after damage so that they can continue expanding for millennia. By distributing leaf area among fewer trees with deeper crowns, Sequoia maintains very high leaf area itself (LAI up to 14.5) while simultaneously allowing other species to flourish underneath (non-Sequoia LAI up to 8.0). Because Sequoia is not replaced by other species, aboveground biomass, leaf area, and carbon content of these forests are essentially asymptotic over time.\n",
      "               </dc:description>\n"
     ]
    }
   ],
   "source": [
    "abstract=soup.find('description')\n",
    "print(abstract)"
   ]
  },
  {
   "cell_type": "code",
   "execution_count": 6,
   "metadata": {
    "scrolled": true
   },
   "outputs": [
    {
     "name": "stdout",
     "output_type": "stream",
     "text": [
      "<ce:abstract class=\"graphical\" id=\"ab005\" view=\"all\" xml:lang=\"en\">\n",
      "<ce:section-title id=\"st005\">Graphical abstract</ce:section-title>\n",
      "<ce:abstract-sec id=\"as005\" view=\"all\">\n",
      "<ce:simple-para id=\"sp0005\" view=\"all\">\n",
      "<ce:display>\n",
      "<ce:figure id=\"f0070\">\n",
      "<ce:link locator=\"fx1\"/>\n",
      "</ce:figure>\n",
      "</ce:display>\n",
      "</ce:simple-para>\n",
      "</ce:abstract-sec>\n",
      "</ce:abstract>\n"
     ]
    }
   ],
   "source": [
    "abstract=soup.find('abstract')\n",
    "print(abstract)"
   ]
  },
  {
   "cell_type": "code",
   "execution_count": 18,
   "metadata": {
    "scrolled": true
   },
   "outputs": [
    {
     "name": "stdout",
     "output_type": "stream",
     "text": [
      "<ce:keywords class=\"keyword\" id=\"kg005\" view=\"all\">\n",
      "<ce:section-title id=\"st020\">Keywords</ce:section-title>\n",
      "<ce:keyword id=\"k0005\">\n",
      "<ce:text>\n",
      "<ce:italic>Sequoia sempervirens</ce:italic>\n",
      "</ce:text>\n",
      "</ce:keyword>\n",
      "<ce:keyword id=\"k0010\">\n",
      "<ce:text>Old growth</ce:text>\n",
      "</ce:keyword>\n",
      "<ce:keyword id=\"k0015\">\n",
      "<ce:text>Forest structure</ce:text>\n",
      "</ce:keyword>\n",
      "<ce:keyword id=\"k0020\">\n",
      "<ce:text>Biomass</ce:text>\n",
      "</ce:keyword>\n",
      "<ce:keyword id=\"k0025\">\n",
      "<ce:text>LAI</ce:text>\n",
      "</ce:keyword>\n",
      "<ce:keyword id=\"k0030\">\n",
      "<ce:text>Leaf area</ce:text>\n",
      "</ce:keyword>\n",
      "<ce:keyword id=\"k0035\">\n",
      "<ce:text>Carbon sequestration</ce:text>\n",
      "</ce:keyword>\n",
      "<ce:keyword id=\"k0040\">\n",
      "<ce:text>LiDAR</ce:text>\n",
      "</ce:keyword>\n",
      "<ce:keyword id=\"k0045\">\n",
      "<ce:text>Emergent trees</ce:text>\n",
      "</ce:keyword>\n",
      "<ce:keyword id=\"k0050\">\n",
      "<ce:text>Heartwood</ce:text>\n",
      "</ce:keyword>\n",
      "<ce:keyword id=\"k0055\">\n",
      "<ce:text>Allometric equations</ce:text>\n",
      "</ce:keyword>\n",
      "<ce:keyword id=\"k0060\">\n",
      "<ce:text>Light-use complementarity</ce:text>\n",
      "</ce:keyword>\n",
      "</ce:keywords>\n",
      "27\n"
     ]
    }
   ],
   "source": [
    "keywords=soup.find('keywords')\n",
    "print(keywords)\n",
    "print(len(keywords))"
   ]
  },
  {
   "cell_type": "code",
   "execution_count": 11,
   "metadata": {},
   "outputs": [
    {
     "data": {
      "text/plain": [
       "[<ce:keywords class=\"keyword\" id=\"kg005\" view=\"all\">\n",
       " <ce:section-title id=\"st020\">Keywords</ce:section-title>\n",
       " <ce:keyword id=\"k0005\">\n",
       " <ce:text>\n",
       " <ce:italic>Sequoia sempervirens</ce:italic>\n",
       " </ce:text>\n",
       " </ce:keyword>\n",
       " <ce:keyword id=\"k0010\">\n",
       " <ce:text>Old growth</ce:text>\n",
       " </ce:keyword>\n",
       " <ce:keyword id=\"k0015\">\n",
       " <ce:text>Forest structure</ce:text>\n",
       " </ce:keyword>\n",
       " <ce:keyword id=\"k0020\">\n",
       " <ce:text>Biomass</ce:text>\n",
       " </ce:keyword>\n",
       " <ce:keyword id=\"k0025\">\n",
       " <ce:text>LAI</ce:text>\n",
       " </ce:keyword>\n",
       " <ce:keyword id=\"k0030\">\n",
       " <ce:text>Leaf area</ce:text>\n",
       " </ce:keyword>\n",
       " <ce:keyword id=\"k0035\">\n",
       " <ce:text>Carbon sequestration</ce:text>\n",
       " </ce:keyword>\n",
       " <ce:keyword id=\"k0040\">\n",
       " <ce:text>LiDAR</ce:text>\n",
       " </ce:keyword>\n",
       " <ce:keyword id=\"k0045\">\n",
       " <ce:text>Emergent trees</ce:text>\n",
       " </ce:keyword>\n",
       " <ce:keyword id=\"k0050\">\n",
       " <ce:text>Heartwood</ce:text>\n",
       " </ce:keyword>\n",
       " <ce:keyword id=\"k0055\">\n",
       " <ce:text>Allometric equations</ce:text>\n",
       " </ce:keyword>\n",
       " <ce:keyword id=\"k0060\">\n",
       " <ce:text>Light-use complementarity</ce:text>\n",
       " </ce:keyword>\n",
       " </ce:keywords>]"
      ]
     },
     "execution_count": 11,
     "metadata": {},
     "output_type": "execute_result"
    }
   ],
   "source": [
    "soup.find_all(\"keywords\", class_=\"keyword\")"
   ]
  },
  {
   "cell_type": "code",
   "execution_count": 21,
   "metadata": {
    "scrolled": true
   },
   "outputs": [
    {
     "ename": "KeyError",
     "evalue": "1",
     "output_type": "error",
     "traceback": [
      "\u001b[1;31m---------------------------------------------------------------------------\u001b[0m",
      "\u001b[1;31mKeyError\u001b[0m                                  Traceback (most recent call last)",
      "\u001b[1;32m<ipython-input-21-e6fe06d72573>\u001b[0m in \u001b[0;36m<module>\u001b[1;34m()\u001b[0m\n\u001b[0;32m      1\u001b[0m \u001b[0mfull_article\u001b[0m\u001b[1;33m=\u001b[0m\u001b[0msoup\u001b[0m\u001b[1;33m.\u001b[0m\u001b[0mfind\u001b[0m\u001b[1;33m(\u001b[0m\u001b[1;34m'sections'\u001b[0m\u001b[1;33m)\u001b[0m\u001b[1;33m\u001b[0m\u001b[0m\n\u001b[1;32m----> 2\u001b[1;33m \u001b[0mprint\u001b[0m\u001b[1;33m(\u001b[0m\u001b[0mfull_article\u001b[0m\u001b[1;33m[\u001b[0m\u001b[1;36m1\u001b[0m\u001b[1;33m]\u001b[0m\u001b[1;33m)\u001b[0m\u001b[1;33m\u001b[0m\u001b[0m\n\u001b[0m\u001b[0;32m      3\u001b[0m \u001b[0mprint\u001b[0m\u001b[1;33m(\u001b[0m\u001b[0mlen\u001b[0m\u001b[1;33m(\u001b[0m\u001b[0mfull_article\u001b[0m\u001b[1;33m)\u001b[0m\u001b[1;33m)\u001b[0m\u001b[1;33m\u001b[0m\u001b[0m\n",
      "\u001b[1;32m~\\Anaconda3\\lib\\site-packages\\bs4\\element.py\u001b[0m in \u001b[0;36m__getitem__\u001b[1;34m(self, key)\u001b[0m\n\u001b[0;32m   1009\u001b[0m         \"\"\"tag[key] returns the value of the 'key' attribute for the tag,\n\u001b[0;32m   1010\u001b[0m         and throws an exception if it's not there.\"\"\"\n\u001b[1;32m-> 1011\u001b[1;33m         \u001b[1;32mreturn\u001b[0m \u001b[0mself\u001b[0m\u001b[1;33m.\u001b[0m\u001b[0mattrs\u001b[0m\u001b[1;33m[\u001b[0m\u001b[0mkey\u001b[0m\u001b[1;33m]\u001b[0m\u001b[1;33m\u001b[0m\u001b[0m\n\u001b[0m\u001b[0;32m   1012\u001b[0m \u001b[1;33m\u001b[0m\u001b[0m\n\u001b[0;32m   1013\u001b[0m     \u001b[1;32mdef\u001b[0m \u001b[0m__iter__\u001b[0m\u001b[1;33m(\u001b[0m\u001b[0mself\u001b[0m\u001b[1;33m)\u001b[0m\u001b[1;33m:\u001b[0m\u001b[1;33m\u001b[0m\u001b[0m\n",
      "\u001b[1;31mKeyError\u001b[0m: 1"
     ]
    }
   ],
   "source": [
    "full_article=soup.find('sections')\n",
    "print(full_article[1])\n",
    "print(len(full_article))"
   ]
  },
  {
   "cell_type": "code",
   "execution_count": 17,
   "metadata": {},
   "outputs": [
    {
     "name": "stdout",
     "output_type": "stream",
     "text": [
      "<ce:para id=\"p0035\" view=\"all\">Biomass and leaf area of the tallest forests are often more than an order of magnitude higher than shorter forests, including those in tropical Central and South America as well as those in temperate Europe and eastern North America (<ce:cross-refs id=\"r0010\" refid=\"b0205 b0400\">Franklin and Waring, 1980; Keith et al., 2009</ce:cross-refs>). The largest trees consistently occur in forests with near-maximum biomass and leaf area (<ce:cross-refs id=\"r0015\" refid=\"b0640 b0655\">Sillett and Van Pelt, 2007; Sillett et al., 2015b</ce:cross-refs>). Linkages between large trees and forest structure are so strong that aboveground biomass in Central African forests is predictable with information from only the largest 5% of their trees (<ce:cross-ref id=\"c0190\" refid=\"b0050\">Bastin et al., 2015</ce:cross-ref>). Large trees are a critical element of forest structure, but it is unclear to what degree maximum biomass and leaf area are attributable to the presence of large trees or a broader-scale forest structure. Even in high-biomass forests dominated by a single species, other species often substantially contribute to plot-level leaf area (<ce:cross-refs id=\"r0020\" refid=\"b0275 b0775\">Grier and Logan, 1977; Van Pelt et al., 2004</ce:cross-refs>). Massive accumulation of biomass in living trees is also associated with large logs and snags that can represent as much as one-third of total forest carbon (<ce:cross-refs id=\"r0025\" refid=\"b0680 b0095\">Smithwick et al., 2002; Burrascano et al., 2013</ce:cross-refs>), especially in cool temperate rainforests (<ce:italic>sensu</ce:italic>\n",
      "<ce:cross-ref id=\"c0195\" refid=\"b0020\">Alaback, 1991</ce:cross-ref>) where saturated logs have slow rates of decay (<ce:cross-refs id=\"r0030\" refid=\"b0305 b0145\">Harmon et al., 1986; Daniels et al., 1997</ce:cross-refs>).</ce:para>\n",
      "96\n"
     ]
    }
   ],
   "source": [
    "full_article=soup.find_all('para')\n",
    "print(full_article[1])\n",
    "print(len(full_article))"
   ]
  },
  {
   "cell_type": "markdown",
   "metadata": {
    "id": "Kk8Vu2-Xh30A"
   },
   "source": [
    "## 2. Get text data from all files"
   ]
  },
  {
   "cell_type": "code",
   "execution_count": 35,
   "metadata": {
    "id": "Ur0gyaFeh5KJ"
   },
   "outputs": [],
   "source": [
    "import imp\n",
    "from bs4 import BeautifulSoup\n",
    "import re\n",
    "\n",
    "def extract_text_from_html(mdpi_dir, mdpi_file_name):\n",
    "    with open(mdpi_dir + '/' + mdpi_file_name, \"r\", encoding='utf-8') as f:\n",
    "        html_file = f.read()\n",
    "    soup = BeautifulSoup(html_file, 'html.parser')\n",
    "    \n",
    "    article = soup.find('article')\n",
    "    text_list = article.find_all(text=True)\n",
    "    article_text = \" \".join(text_list)\n",
    "    \n",
    "    # Remove \\n characters\n",
    "    clean_text = article_text.replace('\\n', ' ')\n",
    "    # Remove special characters and numbers\n",
    "    clean_text = re.sub('[^.,A-Za-z]+', ' ', clean_text)\n",
    "    # Convert all text to lower\n",
    "    clean_text = clean_text.lower()\n",
    "    \n",
    "    return clean_text"
   ]
  },
  {
   "cell_type": "code",
   "execution_count": 36,
   "metadata": {
    "colab": {
     "base_uri": "https://localhost:8080/"
    },
    "id": "4CLEjSsph7xq",
    "outputId": "9f233a16-1862-4428-f8e9-d661a669a4de"
   },
   "outputs": [
    {
     "name": "stdout",
     "output_type": "stream",
     "text": [
      "Error while extracting text for 10.3390_rs90201023.html 'NoneType' object has no attribute 'find_all'\n",
      "Error while extracting text for 10.3390_rs90201024.html 'NoneType' object has no attribute 'find_all'\n"
     ]
    }
   ],
   "source": [
    "# Get all the text data from the articles\n",
    "mdpi_corpus = []\n",
    "failed_files = []\n",
    "for file_name in filenames:\n",
    "    # There might be possible exceptions from extracting text. \n",
    "    # This will catch the exceptions and we can analyze why it failed for some files\n",
    "    try:\n",
    "        extracted_text = extract_text_from_html(mdpi_dir, file_name)\n",
    "        mdpi_corpus.append(extracted_text)\n",
    "    except Exception as e:\n",
    "        failed_files.append(file_name)\n",
    "        print(\"Error while extracting text for {}\".format(file_name), e)"
   ]
  },
  {
   "cell_type": "code",
   "execution_count": 37,
   "metadata": {
    "colab": {
     "base_uri": "https://localhost:8080/"
    },
    "id": "GPCg2AzBiM1P",
    "outputId": "758c64be-88b7-4128-925f-c3e5f717fcf7"
   },
   "outputs": [
    {
     "name": "stdout",
     "output_type": "stream",
     "text": [
      "Successfully processed 402 records\n"
     ]
    }
   ],
   "source": [
    "print(\"Successfully processed {} records\".format(len(mdpi_corpus)))"
   ]
  },
  {
   "cell_type": "markdown",
   "metadata": {
    "id": "l8QVy8oi3Rc5"
   },
   "source": [
    "## 3. Setup glove embeddings "
   ]
  },
  {
   "cell_type": "markdown",
   "metadata": {
    "id": "lVpEbJ233XJ_"
   },
   "source": [
    "**This is required on google colab as data is not stored permenantly.**"
   ]
  },
  {
   "cell_type": "code",
   "execution_count": 10,
   "metadata": {
    "colab": {
     "base_uri": "https://localhost:8080/"
    },
    "id": "p8fQO3_zi5pA",
    "outputId": "3668fc65-60e1-4a31-a821-d4e1a73e235b"
   },
   "outputs": [
    {
     "name": "stdout",
     "output_type": "stream",
     "text": [
      "--2022-04-15 15:39:05--  https://nlp.stanford.edu/data/glove.6B.zip\n",
      "Resolving nlp.stanford.edu (nlp.stanford.edu)... 171.64.67.140\n",
      "Connecting to nlp.stanford.edu (nlp.stanford.edu)|171.64.67.140|:443... connected.\n",
      "HTTP request sent, awaiting response... 301 Moved Permanently\n",
      "Location: http://downloads.cs.stanford.edu/nlp/data/glove.6B.zip [following]\n",
      "--2022-04-15 15:39:05--  http://downloads.cs.stanford.edu/nlp/data/glove.6B.zip\n",
      "Resolving downloads.cs.stanford.edu (downloads.cs.stanford.edu)... 171.64.64.22\n",
      "Connecting to downloads.cs.stanford.edu (downloads.cs.stanford.edu)|171.64.64.22|:80... connected.\n",
      "HTTP request sent, awaiting response... 200 OK\n",
      "Length: 862182613 (822M) [application/zip]\n",
      "Saving to: ‘glove.6B.zip’\n",
      "\n",
      "glove.6B.zip        100%[===================>] 822.24M  5.06MB/s    in 2m 41s  \n",
      "\n",
      "2022-04-15 15:41:46 (5.12 MB/s) - ‘glove.6B.zip’ saved [862182613/862182613]\n",
      "\n"
     ]
    }
   ],
   "source": [
    "!wget https://nlp.stanford.edu/data/glove.6B.zip"
   ]
  },
  {
   "cell_type": "code",
   "execution_count": 11,
   "metadata": {
    "colab": {
     "base_uri": "https://localhost:8080/"
    },
    "id": "mMSfPgTDlC3e",
    "outputId": "db865e4d-fd93-4521-f29d-4d429816a126"
   },
   "outputs": [
    {
     "name": "stdout",
     "output_type": "stream",
     "text": [
      "Archive:  glove.6B.zip\n",
      "  inflating: glove.6B.50d.txt        \n",
      "  inflating: glove.6B.100d.txt       \n",
      "  inflating: glove.6B.200d.txt       \n",
      "  inflating: glove.6B.300d.txt       \n"
     ]
    }
   ],
   "source": [
    "!unzip \"glove.6B.zip\""
   ]
  },
  {
   "cell_type": "markdown",
   "metadata": {
    "id": "yEBft_l_4Qxc"
   },
   "source": [
    "## 4. Setup pipeline to make custom embeddings"
   ]
  },
  {
   "cell_type": "code",
   "execution_count": 12,
   "metadata": {
    "id": "-r0b14XYjepu"
   },
   "outputs": [],
   "source": [
    "import gensim\n",
    "from gensim.test.utils import get_tmpfile, datapath\n",
    "from gensim.models import KeyedVectors\n",
    "from gensim.scripts.glove2word2vec import glove2word2vec\n",
    "from gensim.models import Word2Vec"
   ]
  },
  {
   "cell_type": "code",
   "execution_count": 13,
   "metadata": {
    "id": "Rw4cJwVtjISC"
   },
   "outputs": [],
   "source": [
    "glove_file = datapath('/content/glove.6B.50d.txt')\n",
    "tmp_file = get_tmpfile(\"test_word2vec.txt\")\n",
    "\n",
    "_ = glove2word2vec(glove_file, tmp_file)\n",
    "glove_vectors = KeyedVectors.load_word2vec_format(tmp_file)"
   ]
  },
  {
   "cell_type": "markdown",
   "metadata": {
    "id": "cFqcw7Dg4mrO"
   },
   "source": [
    "### 4.1 Process the corpus to the input format required by Word2Vec algorithm"
   ]
  },
  {
   "cell_type": "code",
   "execution_count": 15,
   "metadata": {
    "colab": {
     "base_uri": "https://localhost:8080/"
    },
    "id": "Nyr3Uf8R45uh",
    "outputId": "d2a0bae8-0e23-4fb8-9f39-e9272c0cf14d"
   },
   "outputs": [
    {
     "name": "stdout",
     "output_type": "stream",
     "text": [
      "[nltk_data] Downloading package punkt to /root/nltk_data...\n",
      "[nltk_data]   Unzipping tokenizers/punkt.zip.\n"
     ]
    },
    {
     "data": {
      "text/plain": [
       "True"
      ]
     },
     "execution_count": 15,
     "metadata": {},
     "output_type": "execute_result"
    }
   ],
   "source": [
    "import nltk\n",
    "from nltk.tokenize import word_tokenize, sent_tokenize\n",
    "nltk.download('punkt')"
   ]
  },
  {
   "cell_type": "code",
   "execution_count": 14,
   "metadata": {
    "id": "l4c0QPXVme4I"
   },
   "outputs": [],
   "source": [
    "# First we combine all the records into one single string\n",
    "full_text = \" \".join(mdpi_corpus)"
   ]
  },
  {
   "cell_type": "code",
   "execution_count": 39,
   "metadata": {
    "id": "YpzMSNMbmVqr"
   },
   "outputs": [],
   "source": [
    "sentences = []\n",
    "for document in mdpi_corpus:\n",
    "    # Break down each document in the corpus to list of sentences \n",
    "    sent_list = sent_tokenize(document)\n",
    "    # For each sentence break it into list of words\n",
    "    for sent in sent_list:\n",
    "        word_list = word_tokenize(sent)\n",
    "        sentences.append(word_tokenize(sent))"
   ]
  },
  {
   "cell_type": "code",
   "execution_count": 41,
   "metadata": {
    "colab": {
     "base_uri": "https://localhost:8080/"
    },
    "id": "EIv8azmQ-RcD",
    "outputId": "f1be7854-526a-4bd4-9106-17d9db62b1c2"
   },
   "outputs": [
    {
     "name": "stdout",
     "output_type": "stream",
     "text": [
      "We have 377179 sentences in the corpus\n"
     ]
    }
   ],
   "source": [
    "print(\"We have {} sentences in the corpus\".format(len(sentences)))"
   ]
  },
  {
   "cell_type": "markdown",
   "metadata": {
    "id": "QK7S53sI_Cth"
   },
   "source": [
    "### 4.2 Setup Word2Vec model"
   ]
  },
  {
   "cell_type": "code",
   "execution_count": 46,
   "metadata": {
    "id": "W1sgZiZGkVy2"
   },
   "outputs": [],
   "source": [
    "# build a word2vec model on your dataset\n",
    "base_model = Word2Vec(size=50, window=5, min_count=3, workers=4)\n",
    "base_model.build_vocab(sentences)"
   ]
  },
  {
   "cell_type": "code",
   "execution_count": 52,
   "metadata": {
    "id": "WMSbH5b3_V9W"
   },
   "outputs": [],
   "source": [
    "total_examples = base_model.corpus_count"
   ]
  },
  {
   "cell_type": "code",
   "execution_count": 59,
   "metadata": {
    "colab": {
     "base_uri": "https://localhost:8080/"
    },
    "id": "rRklNiF-_mg_",
    "outputId": "19fa4fa6-04f0-4d6a-e4ab-30baee64544f"
   },
   "outputs": [
    {
     "data": {
      "text/plain": [
       "26528"
      ]
     },
     "execution_count": 59,
     "metadata": {},
     "output_type": "execute_result"
    }
   ],
   "source": [
    "# Unique words in the vocabulary\n",
    "len(base_model.wv.vocab)"
   ]
  },
  {
   "cell_type": "code",
   "execution_count": 71,
   "metadata": {
    "colab": {
     "base_uri": "https://localhost:8080/"
    },
    "id": "uIqKacNTAJq-",
    "outputId": "9e97a555-17de-4824-edd1-7cc6996c160d"
   },
   "outputs": [
    {
     "name": "stdout",
     "output_type": "stream",
     "text": [
      "Unique words to our corpus 6268\n",
      "Common words between corpus and glove 20260\n"
     ]
    }
   ],
   "source": [
    "# Statistics of our vocabulary\n",
    "unique_words = set(base_model.wv.vocab.keys()) - set(glove_vectors.vocab.keys())\n",
    "common_words = set(base_model.wv.vocab.keys()).intersection(set(glove_vectors.vocab.keys()))\n",
    "\n",
    "print(\"Unique words to our corpus {}\".format(len(unique_words)))\n",
    "print(\"Common words between corpus and glove {}\".format(len(common_words)))"
   ]
  },
  {
   "cell_type": "markdown",
   "metadata": {
    "id": "vwJSsE4i_00l"
   },
   "source": [
    "### 4.3 Train Word2Vec model"
   ]
  },
  {
   "cell_type": "code",
   "execution_count": 72,
   "metadata": {
    "id": "OsWC-_ldArbK"
   },
   "outputs": [],
   "source": [
    "# update our model with GloVe's vocabulary & weights\n",
    "base_model.build_vocab([list(glove_vectors.vocab.keys())], update=True)"
   ]
  },
  {
   "cell_type": "code",
   "execution_count": null,
   "metadata": {
    "id": "UvFz4klH_bxd"
   },
   "outputs": [],
   "source": [
    "# train on your data\n",
    "base_model.train(sentences, total_examples=total_examples, epochs=100)\n",
    "base_model_wv = base_model.wv"
   ]
  },
  {
   "cell_type": "markdown",
   "metadata": {
    "id": "TejmYH0WAzFy"
   },
   "source": [
    "### 4.4 Analyze our embeddings"
   ]
  },
  {
   "cell_type": "code",
   "execution_count": 77,
   "metadata": {
    "colab": {
     "base_uri": "https://localhost:8080/"
    },
    "id": "dHzag7fVA4MI",
    "outputId": "6714a6ff-bc5a-46a7-8621-4135cbccd26e"
   },
   "outputs": [
    {
     "data": {
      "text/plain": [
       "['qair',\n",
       " 'k.l',\n",
       " 'singto',\n",
       " 'forclime',\n",
       " 'tection',\n",
       " 'channan',\n",
       " 'logsig',\n",
       " 'mizoue',\n",
       " 'y.o',\n",
       " 'g.o']"
      ]
     },
     "execution_count": 77,
     "metadata": {},
     "output_type": "execute_result"
    }
   ],
   "source": [
    "list(unique_words)[:10]"
   ]
  },
  {
   "cell_type": "code",
   "execution_count": 78,
   "metadata": {
    "colab": {
     "base_uri": "https://localhost:8080/"
    },
    "id": "3VgwmeG0BCjp",
    "outputId": "8ebcf489-84a3-42af-ece6-9c9fb5b38f9c"
   },
   "outputs": [
    {
     "data": {
      "text/plain": [
       "False"
      ]
     },
     "execution_count": 78,
     "metadata": {},
     "output_type": "execute_result"
    }
   ],
   "source": [
    "'geoinform' in common_words"
   ]
  },
  {
   "cell_type": "code",
   "execution_count": 74,
   "metadata": {
    "colab": {
     "base_uri": "https://localhost:8080/"
    },
    "id": "orj3zSoRt5r_",
    "outputId": "6e18f7c4-de0d-409d-ea2e-c09b7bdd5142"
   },
   "outputs": [
    {
     "data": {
      "text/plain": [
       "[('energy', 0.5695731043815613),\n",
       " ('topography', 0.49855130910873413),\n",
       " ('poulin', 0.4958604872226715),\n",
       " ('levin', 0.4894944727420807),\n",
       " ('sun', 0.48915255069732666),\n",
       " ('vicarious', 0.48822200298309326),\n",
       " ('quantification', 0.48101136088371277),\n",
       " ('gasparini', 0.470840185880661),\n",
       " ('cools', 0.46899086236953735),\n",
       " ('ahola', 0.4679374396800995)]"
      ]
     },
     "execution_count": 74,
     "metadata": {},
     "output_type": "execute_result"
    }
   ],
   "source": [
    "base_model_wv.most_similar('geoinform')"
   ]
  }
 ],
 "metadata": {
  "colab": {
   "collapsed_sections": [],
   "name": "Embeddings.ipynb",
   "provenance": []
  },
  "kernelspec": {
   "display_name": "Python 3",
   "language": "python",
   "name": "python3"
  },
  "language_info": {
   "codemirror_mode": {
    "name": "ipython",
    "version": 3
   },
   "file_extension": ".py",
   "mimetype": "text/x-python",
   "name": "python",
   "nbconvert_exporter": "python",
   "pygments_lexer": "ipython3",
   "version": "3.6.4"
  }
 },
 "nbformat": 4,
 "nbformat_minor": 1
}
